{
  "nbformat": 4,
  "nbformat_minor": 0,
  "metadata": {
    "kernelspec": {
      "display_name": "Python 3",
      "language": "python",
      "name": "python3"
    },
    "language_info": {
      "codemirror_mode": {
        "name": "ipython",
        "version": 3
      },
      "file_extension": ".py",
      "mimetype": "text/x-python",
      "name": "python",
      "nbconvert_exporter": "python",
      "pygments_lexer": "ipython3",
      "version": "3.7.7"
    },
    "colab": {
      "provenance": [],
      "collapsed_sections": [
        "Knsqeg8oQ8Rg"
      ]
    }
  },
  "cells": [
    {
      "cell_type": "markdown",
      "metadata": {
        "id": "q3SenykKQ8RM"
      },
      "source": [
        "<img src=\"https://github.com/christopherhuntley/BUAN5405-docs/blob/master/Slides/img/Dolan.png?raw=true\" width=\"180px\" align=\"right\">\n",
        "\n",
        "# Lesson 6: Strings\n",
        "_The first sequential data type_"
      ]
    },
    {
      "cell_type": "markdown",
      "metadata": {
        "id": "vcFBcdMQQ8RN"
      },
      "source": [
        "# Learning Objectives\n",
        "\n",
        "## Theory / Be able to explain ...\n",
        "- The Python Type Hierarchy\n",
        "- The three kinds of string literals\n",
        "- The concept of immutability\n",
        "- Basics of sequential data types\n",
        "- Indexing, slicing, and traversal\n",
        "- String objects and methods\n",
        "- Iterators and generators\n",
        "\n",
        "## Skills / Know how to  ...\n",
        "- Create string literals from quoted text or type conversion\n",
        "- Use indexing and slicing to retrieve substrings\n",
        "- Use the `in` and `%` operators\n",
        "- Work with `bytearray` data for mutable text\n",
        "- Use an iterator or generator to traverse a sequence of any length\n",
        "\n",
        "**What follows is adapted from Chapter 6 of the _Python For Everybody_ book. If you have not read it, then please do so before continuing on.**\n",
        "\n",
        "---"
      ]
    },
    {
      "cell_type": "code",
      "metadata": {
        "id": "r4Um6xx8VPfr",
        "cellView": "form",
        "colab": {
          "base_uri": "https://localhost:8080/",
          "height": 580
        },
        "outputId": "e15857c7-8d35-4791-ff83-4a1563fda1e2"
      },
      "source": [
        "#@title Lesson 6 Introduction\n",
        "%%html\n",
        "<div style=\"max-width: 1000px\">\n",
        "  <div style=\"position: relative;padding-bottom: 56.25%;height: 0;\">\n",
        "    <iframe style=\"position: absolute;top: 0;left: 0;width: 100%;height: 100%;\" rel=\"0\" modestbranding=\"1\"  src=\"https://www.youtube.com/embed/T98tX5W51nU\" frameborder=\"0\" allow=\"accelerometer; autoplay; encrypted-media; gyroscope; picture-in-picture\" allowfullscreen></iframe>\n",
        "  </div>\n",
        "<div style=\"max-width: 1000px\">\n"
      ],
      "execution_count": null,
      "outputs": [
        {
          "output_type": "display_data",
          "data": {
            "text/plain": [
              "<IPython.core.display.HTML object>"
            ],
            "text/html": [
              "<div style=\"max-width: 1000px\">\n",
              "  <div style=\"position: relative;padding-bottom: 56.25%;height: 0;\">\n",
              "    <iframe style=\"position: absolute;top: 0;left: 0;width: 100%;height: 100%;\" rel=\"0\" modestbranding=\"1\"  src=\"https://www.youtube.com/embed/T98tX5W51nU\" frameborder=\"0\" allow=\"accelerometer; autoplay; encrypted-media; gyroscope; picture-in-picture\" allowfullscreen></iframe>\n",
              "  </div>\n",
              "<div style=\"max-width: 1000px\">\n"
            ]
          },
          "metadata": {}
        }
      ]
    },
    {
      "cell_type": "markdown",
      "metadata": {
        "id": "9t049nQ6Q8RN"
      },
      "source": [
        "## The Type Hierarchy\n",
        "> \"There are 10 kinds of people in this world, those who know binary and those who don't.\" -- anonymous nerd lore\n",
        "\n",
        "In this world of Big Data where computational power and data storage capacity have become commodities measured out like sugar or produce, it is easy for non-programmers to forget that it hasn't always been this way, that actual people had to design and build the technology up over many decades. The modern world is by design, not accident, or so we like to believe. \n",
        "\n",
        "In the very beginning, all data and programs were **encoded** as **binary**: strings of zeroes and ones called **bits** where every few bits represented something else. We still use binary (at least in digital computers), of course, but not many people speak it natively anymore. It's just too computer-specific and hard for us humans to process. Instead, we use an ever evolving repertoire of **languages** and **data structures** to express ourselves and keep our data safe and useful. \n",
        "\n",
        "After the **bit** the next standard data type was the **byte**, composed of 8 bits with 256 possible values, which is just enough to encode each key on a computer keyboard. Thus, [**ASCII**](https://en.wikipedia.org/wiki/ASCII) (American Standard Code for Information Interchange) was born. ASCII used seven of the bits (i.e., 128 possible values) for the keyboard codes, with the last bit available for error checking. Each character was assigned a number (e.g., \"A\" = binary `1000001` = decimal 65). Upper case letters were separate from lower case letters (\"a\" = `1100001` = 97) and every \"control\" character (e.g. tab, line ending, end of file, etc.) has an ASCII encoding as well. \n",
        "\n",
        "When strung together, **bytes** could represent lots of things as **strings**, **integers**, and **floats**, which you will recognize as native Python data types. From there it was natural to think of more elaborate data structures like complex numbers or lists. These in turn led to decimal and fractional numbers, and file, array, list, tuple, and dictionary collections. Today the Python standard library includes dozens of data types, each with its own unique properties and uses. And, if none of these quite do what we want, we can always create our own. \n",
        "\n",
        "This lesson starts our explorations into the world of data structures with a review of the **string data type**, which in practice is the most commonly used data structure of all. While we analytics geeks would likely prefer to have quantitative data all the time, if a human is involved in its collection or communication then it almost certainly will start as text strings. "
      ]
    },
    {
      "cell_type": "markdown",
      "metadata": {
        "id": "LA2xjXlbQ8RO"
      },
      "source": [
        "---\n",
        "## String: The (Second-Most) Universal Data Type\n",
        "Many people are surprised to learn that in its original form, the entirety of the world wide web was text. Even the images were encoded into text! The web browser's job was to take all the strings of text coming over the wire -- there was no wifi back then -- and display web pages that people could view and interact with. Why text? Because just about anything can be encoded as text. It also allowed people to hand-craft web pages with HTML. While the web has progressed a lot since then, most content is still ... text. \n",
        "\n",
        "In Python all text has the `string` data type. Most of what follows is a somewhat terse review of things from the Py4E book. Please start there and then read through the notes. "
      ]
    },
    {
      "cell_type": "markdown",
      "metadata": {
        "id": "Q-ZwZpzyQ8RO"
      },
      "source": [
        "---\n",
        "## String Literals\n",
        "A **string literal** is a specific sequence of characters. The come about in one of two ways:\n",
        "- As quoted text like \"Every good boy does fine\"\n",
        "- Conversion from a literal of another type\n",
        "\n",
        "### Quoted Text\n",
        "Quoted text in Python comes in three varieties.\n",
        "\n",
        "**Single quotes** are used for short strings like names: "
      ]
    },
    {
      "cell_type": "code",
      "metadata": {
        "id": "p_-tMpXeQ8RP",
        "outputId": "025b269c-2d7f-46eb-c232-6a1a9481a63b",
        "colab": {
          "base_uri": "https://localhost:8080/",
          "height": 36
        }
      },
      "source": [
        "'Apple'"
      ],
      "execution_count": null,
      "outputs": [
        {
          "output_type": "execute_result",
          "data": {
            "text/plain": [
              "'Apple'"
            ],
            "application/vnd.google.colaboratory.intrinsic+json": {
              "type": "string"
            }
          },
          "metadata": {},
          "execution_count": 1
        }
      ]
    },
    {
      "cell_type": "markdown",
      "metadata": {
        "id": "ZnkCMUKYQ8RS"
      },
      "source": [
        "**Double quotes** are used when the quoted text might include single quotes/apostrophes:"
      ]
    },
    {
      "cell_type": "code",
      "metadata": {
        "id": "89MMx0jwQ8RS",
        "outputId": "72ed1938-15ad-48ab-9295-85c75eb2b9f1",
        "colab": {
          "base_uri": "https://localhost:8080/",
          "height": 36
        }
      },
      "source": [
        "\"Apple's market cap is $1.5 Trillion\""
      ],
      "execution_count": null,
      "outputs": [
        {
          "output_type": "execute_result",
          "data": {
            "text/plain": [
              "\"Apple's market cap is $1.5 Trillion\""
            ],
            "application/vnd.google.colaboratory.intrinsic+json": {
              "type": "string"
            }
          },
          "metadata": {},
          "execution_count": 2
        }
      ]
    },
    {
      "cell_type": "markdown",
      "metadata": {
        "id": "oB7BSRndQ8RV"
      },
      "source": [
        "**Triple quotes** are used when the text spans multiple lines (and we want to keep it that way):"
      ]
    },
    {
      "cell_type": "code",
      "metadata": {
        "id": "TVGArSReQ8RV",
        "outputId": "f0a13e38-8e5f-4764-bae6-674b739d4d9f",
        "colab": {
          "base_uri": "https://localhost:8080/",
          "height": 36
        }
      },
      "source": [
        "'''\n",
        "Apple's market cap is ...\n",
        "\n",
        "1.5 TRILLION DOLLARS!\n",
        "'''"
      ],
      "execution_count": null,
      "outputs": [
        {
          "output_type": "execute_result",
          "data": {
            "text/plain": [
              "\"\\nApple's market cap is ...\\n\\n1.5 TRILLION DOLLARS!\\n\""
            ],
            "application/vnd.google.colaboratory.intrinsic+json": {
              "type": "string"
            }
          },
          "metadata": {},
          "execution_count": 3
        }
      ]
    },
    {
      "cell_type": "markdown",
      "metadata": {
        "id": "2zLytAUcQ8RX"
      },
      "source": [
        "The `\\n`s in there represent line endings (a.k.a., \"newlines\")."
      ]
    },
    {
      "cell_type": "markdown",
      "metadata": {
        "id": "CweMyyI8Q8RY"
      },
      "source": [
        "### Conversions from other data types\n",
        "Just about anything can be converted to a string. "
      ]
    },
    {
      "cell_type": "code",
      "metadata": {
        "id": "8599sxiaQ8RY",
        "outputId": "cfa139e5-ffca-4474-c240-26c6452292d4",
        "colab": {
          "base_uri": "https://localhost:8080/",
          "height": 36
        }
      },
      "source": [
        "str(15)"
      ],
      "execution_count": null,
      "outputs": [
        {
          "output_type": "execute_result",
          "data": {
            "text/plain": [
              "'15'"
            ],
            "application/vnd.google.colaboratory.intrinsic+json": {
              "type": "string"
            }
          },
          "metadata": {},
          "execution_count": 4
        }
      ]
    },
    {
      "cell_type": "code",
      "metadata": {
        "id": "EGBZlNNBQ8Ra",
        "outputId": "1304babd-c538-467b-ff0c-50ab8bebb2f6",
        "colab": {
          "base_uri": "https://localhost:8080/",
          "height": 36
        }
      },
      "source": [
        "str(type(15))"
      ],
      "execution_count": null,
      "outputs": [
        {
          "output_type": "execute_result",
          "data": {
            "text/plain": [
              "\"<class 'int'>\""
            ],
            "application/vnd.google.colaboratory.intrinsic+json": {
              "type": "string"
            }
          },
          "metadata": {},
          "execution_count": 5
        }
      ]
    },
    {
      "cell_type": "code",
      "metadata": {
        "id": "WwL6XlQeQ8Rd",
        "outputId": "9581e16c-e35b-4505-de64-79774958b0c2",
        "colab": {
          "base_uri": "https://localhost:8080/",
          "height": 36
        }
      },
      "source": [
        "b'This is a bytes literal'.decode()"
      ],
      "execution_count": null,
      "outputs": [
        {
          "output_type": "execute_result",
          "data": {
            "text/plain": [
              "'This is a bytes literal'"
            ],
            "application/vnd.google.colaboratory.intrinsic+json": {
              "type": "string"
            }
          },
          "metadata": {},
          "execution_count": 6
        }
      ]
    },
    {
      "cell_type": "markdown",
      "metadata": {
        "id": "TZIdeU8RQ8Rf"
      },
      "source": [
        "The last example is a special case covered in the _Pro Tips_ section at the end of the lesson.  "
      ]
    },
    {
      "cell_type": "markdown",
      "metadata": {
        "id": "Knsqeg8oQ8Rg"
      },
      "source": [
        "### Special Characters\n",
        "Some character codes from the old days of teletypes still exist in Python and other languages. Most represented either whitespace or unprintable behaviors (e.g., ringing a bell with `\\a` or going backwards one space with `\\b`). They were encoded with a backslash `\\` character plus a letter or number. Of these only a few so-called \"escape-codes\" still have any meaning:\n",
        "- `\\t`: advance to the next tabstop (\"tab\")\n",
        "- `\\n`: ascii line feed (line end)\n",
        "- `\\\\`: backslash\n",
        "- `\\'`: single quote character\n",
        "- `\\\"`: double quote character\n",
        "\n",
        "There are other codes (also with backslashes) for things like unicode characters. You will find them explained in the Python docs. "
      ]
    },
    {
      "cell_type": "markdown",
      "metadata": {
        "id": "xfPq0_MyQ8Rj"
      },
      "source": [
        "### Immutability: When everything is taken literally\n",
        "Strings and numbers are meant to be taken literally. **They cannot be changed after they are created.** We can't change the number 1 into the number 2, no matter how much we try. Similarly we can't change \"Apple\" into \"Google\" no matter how much Eric Schmidt may have wanted it to happen. \n",
        "\n",
        "So how are we able to do things like this?"
      ]
    },
    {
      "cell_type": "code",
      "metadata": {
        "id": "6gDg_QPEQ8Rk",
        "outputId": "19a65fbe-7671-473e-9b8a-bbecb174168d",
        "colab": {
          "base_uri": "https://localhost:8080/"
        }
      },
      "source": [
        "x = \"Apple is king of Silicon Valley\" \n",
        "x = \"Google is king of Silicon Valley\"   # Reassignment\n",
        "x += \" ... but Apple was there first\"    # Update operator\n",
        "print(x)"
      ],
      "execution_count": null,
      "outputs": [
        {
          "output_type": "stream",
          "name": "stdout",
          "text": [
            "Google is king of Silicon Valley ... but Apple was there first\n"
          ]
        }
      ]
    },
    {
      "cell_type": "markdown",
      "metadata": {
        "id": "wSEFRgmRQ8Rm"
      },
      "source": [
        "Despite appearances, **each string is immutable**. We can operate on the strings to make new strings, but the **original strings are unchanged**. Again, we can't modify 1 to make it 2, so why would we expect to be able to do that with strings? "
      ]
    },
    {
      "cell_type": "markdown",
      "metadata": {
        "id": "axv2a8aYQ8Rm"
      },
      "source": [
        "### **Pulse Check ...**\n",
        "\n",
        "**1. Why do we need three different quoting mechanisms in Python?**"
      ]
    },
    {
      "cell_type": "markdown",
      "metadata": {
        "id": "1Y8A1tZ6Q8Rn"
      },
      "source": [
        "1. We need single quotes to represent a string which is a sequence of characters\n",
        "2. We need double quotes to represent a string when there is an apostrophy `'` in the string of characters\n",
        "3. We need triple quotes when our string spans multiple lines.  Also known as a docstring it is used to explain the how a method, defined function, or module works."
      ]
    },
    {
      "cell_type": "markdown",
      "metadata": {
        "id": "xwFLQSs0Q8Rn"
      },
      "source": [
        "**2. Why does the following code fail?**\n",
        "```python\n",
        "x = \"ABD\"\n",
        "x[2]=\"C\"\n",
        "\n",
        "```"
      ]
    },
    {
      "cell_type": "markdown",
      "metadata": {
        "id": "DKBZvQCmQ8Ro"
      },
      "source": [
        "**The code fails because string data types are immutable meaning you cannot change them once they are created.  You can only create new strings to modify the original which do not affect the original.**"
      ]
    },
    {
      "cell_type": "code",
      "metadata": {
        "id": "VehZBqdFlM_7",
        "colab": {
          "base_uri": "https://localhost:8080/",
          "height": 580
        },
        "outputId": "8688a6c8-9093-4290-bbc0-9105066742c8"
      },
      "source": [
        "#@title <--- Check your work\n",
        "%%html\n",
        "<div style=\"max-width: 1000px\">\n",
        "   <div style=\"position: relative;padding-bottom: 56.25%;height: 0;\">\n",
        "     <iframe style=\"position: absolute;top: 0;left: 0;width: 100%;height: 100%;\" rel=\"0\" modestbranding=\"1\"  \n",
        "     src=\"https://www.youtube.com/embed/uGE-_amS2Eg\"\n",
        "     frameborder=\"0\" allow=\"accelerometer; autoplay; encrypted-media; gyroscope; picture-in-picture\" allowfullscreen></iframe>\n",
        "   </div>\n",
        "</div>"
      ],
      "execution_count": null,
      "outputs": [
        {
          "output_type": "display_data",
          "data": {
            "text/plain": [
              "<IPython.core.display.HTML object>"
            ],
            "text/html": [
              "<div style=\"max-width: 1000px\">\n",
              "   <div style=\"position: relative;padding-bottom: 56.25%;height: 0;\">\n",
              "     <iframe style=\"position: absolute;top: 0;left: 0;width: 100%;height: 100%;\" rel=\"0\" modestbranding=\"1\"  \n",
              "     src=\"https://www.youtube.com/embed/uGE-_amS2Eg\"\n",
              "     frameborder=\"0\" allow=\"accelerometer; autoplay; encrypted-media; gyroscope; picture-in-picture\" allowfullscreen></iframe>\n",
              "   </div>\n",
              "</div>\n"
            ]
          },
          "metadata": {}
        }
      ]
    },
    {
      "cell_type": "markdown",
      "metadata": {
        "id": "momajjmzQ8Ro"
      },
      "source": [
        "---\n",
        "## Strings as Sequences\n",
        "One of the reasons why string immutability is surprising is that **a string represents a sequence of characters**, kind of like a list. And, as anybody who has ever made a shopping list can tell you, lists are anything but immutable. We can add, delete, and reorder list items to our hearts content. But not so with strings. (For mutable sequences of characters we suggest using a `bytearray`, covered at the end of the lesson.)\n",
        "\n",
        "Despite this one huge difference, in just about every other way a string works pretty much like a list. Both are sequential data types, with a set of features shared by all sequential data types.  "
      ]
    },
    {
      "cell_type": "markdown",
      "metadata": {
        "id": "WfAoALdDQ8Ro"
      },
      "source": [
        "### Indexing and Slicing\n",
        "Sequences inherently have **order**. When referring to an item in the sequence, we refer to its **position** in the sequence. There is always a first item, a second item, etc.\n",
        "\n",
        "In Python we use the `[]` operator to **index** the string (or list, tuple, etc.):"
      ]
    },
    {
      "cell_type": "code",
      "metadata": {
        "id": "oaDChi0tQ8Rp",
        "outputId": "05eaf03c-9128-4a08-cab7-0cc7afd53d9b",
        "colab": {
          "base_uri": "https://localhost:8080/",
          "height": 36
        }
      },
      "source": [
        "'Google'[3] # the 3rd index or 4th character of the string "
      ],
      "execution_count": null,
      "outputs": [
        {
          "output_type": "execute_result",
          "data": {
            "text/plain": [
              "'g'"
            ],
            "application/vnd.google.colaboratory.intrinsic+json": {
              "type": "string"
            }
          },
          "metadata": {},
          "execution_count": 8
        }
      ]
    },
    {
      "cell_type": "markdown",
      "metadata": {
        "id": "_ILazjURQ8Rr"
      },
      "source": [
        "Those of you who are counting will notice that 'g' is the fourth character in 'Google.' Python starts counting from 0, not 1 when indexing a sequence. "
      ]
    },
    {
      "cell_type": "code",
      "metadata": {
        "id": "97Bix2hzQ8Rs",
        "outputId": "f40e22bc-7ccb-428b-ec8c-0b8e972b3904",
        "colab": {
          "base_uri": "https://localhost:8080/",
          "height": 36
        }
      },
      "source": [
        "'Google'[0] # indexing in Python always starts at zero "
      ],
      "execution_count": null,
      "outputs": [
        {
          "output_type": "execute_result",
          "data": {
            "text/plain": [
              "'G'"
            ],
            "application/vnd.google.colaboratory.intrinsic+json": {
              "type": "string"
            }
          },
          "metadata": {},
          "execution_count": 9
        }
      ]
    },
    {
      "cell_type": "markdown",
      "metadata": {
        "id": "cRZDywajQ8Ru"
      },
      "source": [
        "We can even use negative numbers as indexes:    "
      ]
    },
    {
      "cell_type": "code",
      "metadata": {
        "id": "HNGi1CtUQ8Ru",
        "outputId": "5329e3b6-1b37-4f96-dff1-70aea219798e",
        "colab": {
          "base_uri": "https://localhost:8080/",
          "height": 36
        }
      },
      "source": [
        "'Google'[-2] # negative indexing we work in reverse"
      ],
      "execution_count": null,
      "outputs": [
        {
          "output_type": "execute_result",
          "data": {
            "text/plain": [
              "'l'"
            ],
            "application/vnd.google.colaboratory.intrinsic+json": {
              "type": "string"
            }
          },
          "metadata": {},
          "execution_count": 10
        }
      ]
    },
    {
      "cell_type": "markdown",
      "metadata": {
        "id": "6vl-Q7jNQ8Rw"
      },
      "source": [
        "For negative indexes it works backwards from the end, with `[-1]` representing the last character.  To find out how many characters are in a string, use the `len()` function."
      ]
    },
    {
      "cell_type": "code",
      "metadata": {
        "id": "isP9SulxQ8Rx",
        "outputId": "35722cbd-f499-4b85-9109-9181479bc72a",
        "colab": {
          "base_uri": "https://localhost:8080/"
        }
      },
      "source": [
        "len('Google')"
      ],
      "execution_count": null,
      "outputs": [
        {
          "output_type": "execute_result",
          "data": {
            "text/plain": [
              "6"
            ]
          },
          "metadata": {},
          "execution_count": 11
        }
      ]
    },
    {
      "cell_type": "markdown",
      "metadata": {
        "id": "LfXAjEiJQ8Rz"
      },
      "source": [
        "Sometimes we want more than one character at a time. For that use a **slice** instead of an index:"
      ]
    },
    {
      "cell_type": "code",
      "metadata": {
        "id": "yVyCPNtoQ8Rz",
        "outputId": "627c7f70-dd6d-447c-83d3-c7a08efcc5b0",
        "colab": {
          "base_uri": "https://localhost:8080/",
          "height": 36
        }
      },
      "source": [
        "'Google'[2:4] # second index up to but not including 4th index "
      ],
      "execution_count": null,
      "outputs": [
        {
          "output_type": "execute_result",
          "data": {
            "text/plain": [
              "'og'"
            ],
            "application/vnd.google.colaboratory.intrinsic+json": {
              "type": "string"
            }
          },
          "metadata": {},
          "execution_count": 12
        }
      ]
    },
    {
      "cell_type": "markdown",
      "metadata": {
        "id": "3wjU3tNUQ8R1"
      },
      "source": [
        "A slice `[a:b]` returns the substring starting with position `a` up to position `b-1`. So, `[2:4]` is asking for whatever is in positions 2 and 3 returned as a new string literal, which in this case is 'og'."
      ]
    },
    {
      "cell_type": "markdown",
      "metadata": {
        "id": "5d49n_T2Q8R2"
      },
      "source": [
        "### Traversal\n",
        "**Traversal** is what we call iteration over the items in a sequence. It is exactly what you might imagine: "
      ]
    },
    {
      "cell_type": "code",
      "metadata": {
        "id": "klfqn1XRQ8R2",
        "outputId": "9ecd04c7-7a93-4fb3-d56f-37341c9e71ea",
        "colab": {
          "base_uri": "https://localhost:8080/"
        }
      },
      "source": [
        "for c in \"Google\":\n",
        "    print(c.upper())"
      ],
      "execution_count": null,
      "outputs": [
        {
          "output_type": "stream",
          "name": "stdout",
          "text": [
            "G\n",
            "O\n",
            "O\n",
            "G\n",
            "L\n",
            "E\n"
          ]
        }
      ]
    },
    {
      "cell_type": "markdown",
      "metadata": {
        "id": "JUw_crhQQ8R5"
      },
      "source": [
        "We can do whatever we want inside the loop body except modify the string. \n",
        "\n",
        "Traversal is actually a more generally applicable task that we will return to in Lesson 11 when we consider tree structured data. "
      ]
    },
    {
      "cell_type": "markdown",
      "metadata": {
        "id": "U7j4_RDTQ8R5"
      },
      "source": [
        "### **Pulse Check ...**\n",
        "**1. What does the following code do?** You will likely want to consult the [Python docs](https://docs.python.org/3/library/functions.html#slice). Be sure to explain what the third slice argument does. "
      ]
    },
    {
      "cell_type": "code",
      "metadata": {
        "id": "XzvoBPNYQ8R5",
        "outputId": "835d05ad-e747-4acd-d74d-95adb62283cd",
        "colab": {
          "base_uri": "https://localhost:8080/",
          "height": 36
        }
      },
      "source": [
        "\"Go Stags!\"[::-1] "
      ],
      "execution_count": null,
      "outputs": [
        {
          "output_type": "execute_result",
          "data": {
            "text/plain": [
              "'!sgatS oG'"
            ],
            "application/vnd.google.colaboratory.intrinsic+json": {
              "type": "string"
            }
          },
          "metadata": {},
          "execution_count": 14
        }
      ]
    },
    {
      "cell_type": "markdown",
      "metadata": {
        "id": "yoJKNfVFpliV"
      },
      "source": [
        "**START STOP & STEP are the three parameters when slicing.  The above means we start at the zero index and exhaust the sequence as there is no specified stop index.  We have a step of -1 which means we exhaust the collection backwards.**"
      ]
    },
    {
      "cell_type": "markdown",
      "metadata": {
        "id": "IPbC-V1RQ8R7"
      },
      "source": [
        "**2. Rewrite the code from question 1 so that it prints the (reversed) characters one per line.**"
      ]
    },
    {
      "cell_type": "code",
      "metadata": {
        "id": "BVDHfMSlQ8R8",
        "colab": {
          "base_uri": "https://localhost:8080/"
        },
        "outputId": "31fadb7a-aa90-4446-8fb1-b219c71aeada"
      },
      "source": [
        "my_text = \"Go Stags!\"\n",
        "\n",
        "for c in my_text[::-1]:\n",
        "    print(c)"
      ],
      "execution_count": null,
      "outputs": [
        {
          "output_type": "stream",
          "name": "stdout",
          "text": [
            "!\n",
            "s\n",
            "g\n",
            "a\n",
            "t\n",
            "S\n",
            " \n",
            "o\n",
            "G\n"
          ]
        }
      ]
    },
    {
      "cell_type": "code",
      "metadata": {
        "cellView": "form",
        "id": "PHvFl8vLnK3B",
        "colab": {
          "base_uri": "https://localhost:8080/",
          "height": 580
        },
        "outputId": "57108777-c823-4b64-b2cf-389affe72e2f"
      },
      "source": [
        "#@title <--- Check your work\n",
        "%%html\n",
        "<div style=\"max-width: 1000px\">\n",
        "   <div style=\"position: relative;padding-bottom: 56.25%;height: 0;\">\n",
        "     <iframe style=\"position: absolute;top: 0;left: 0;width: 100%;height: 100%;\" rel=\"0\" modestbranding=\"1\"  \n",
        "     src=\"https://www.youtube.com/embed/bA2Kt_UiBss\"\n",
        "     frameborder=\"0\" allow=\"accelerometer; autoplay; encrypted-media; gyroscope; picture-in-picture\" allowfullscreen></iframe>\n",
        "   </div>\n",
        "</div>"
      ],
      "execution_count": null,
      "outputs": [
        {
          "output_type": "display_data",
          "data": {
            "text/plain": [
              "<IPython.core.display.HTML object>"
            ],
            "text/html": [
              "<div style=\"max-width: 1000px\">\n",
              "   <div style=\"position: relative;padding-bottom: 56.25%;height: 0;\">\n",
              "     <iframe style=\"position: absolute;top: 0;left: 0;width: 100%;height: 100%;\" rel=\"0\" modestbranding=\"1\"  \n",
              "     src=\"https://www.youtube.com/embed/bA2Kt_UiBss\"\n",
              "     frameborder=\"0\" allow=\"accelerometer; autoplay; encrypted-media; gyroscope; picture-in-picture\" allowfullscreen></iframe>\n",
              "   </div>\n",
              "</div>\n"
            ]
          },
          "metadata": {}
        }
      ]
    },
    {
      "cell_type": "markdown",
      "metadata": {
        "id": "mXyKqBZnQ8R9"
      },
      "source": [
        "---\n",
        "## String Operators\n",
        "We have already seen two different **string operations**:\n",
        "- **concatenating** with the `+` operator\n",
        "- **appending** with the `+=` operator\n",
        "\n",
        "The first returns the merger of two strings, one after the other. The second changes the value of the variable. \n",
        "\n",
        "We can also use comparison operators just like with numbers:"
      ]
    },
    {
      "cell_type": "code",
      "metadata": {
        "id": "PdJAhSRHQ8R-",
        "outputId": "13970e23-bb92-4e4a-be1c-db3db9bad6bb",
        "colab": {
          "base_uri": "https://localhost:8080/"
        }
      },
      "source": [
        "'Google' < 'Apple'"
      ],
      "execution_count": null,
      "outputs": [
        {
          "output_type": "execute_result",
          "data": {
            "text/plain": [
              "False"
            ]
          },
          "metadata": {},
          "execution_count": 16
        }
      ]
    },
    {
      "cell_type": "markdown",
      "metadata": {
        "id": "QcivqRjdQ8R_"
      },
      "source": [
        "The comparison is based on the numeric codes that correspond to each character. Since `A` comes before `G` in the alphabet, its numeric code is smaller. This also applies to lowercase and capital letters and numbers:"
      ]
    },
    {
      "cell_type": "code",
      "metadata": {
        "id": "nhDRNiJZQ8SA",
        "outputId": "df9692ec-e9c1-4459-b608-6943c75ff06d",
        "colab": {
          "base_uri": "https://localhost:8080/"
        }
      },
      "source": [
        "\"A\" < \"a\""
      ],
      "execution_count": null,
      "outputs": [
        {
          "output_type": "execute_result",
          "data": {
            "text/plain": [
              "True"
            ]
          },
          "metadata": {},
          "execution_count": 17
        }
      ]
    },
    {
      "cell_type": "code",
      "metadata": {
        "id": "3Rxe7hgeQ8SB",
        "outputId": "d5bc6a16-b21e-49e5-ead6-27c3d4ecd646",
        "colab": {
          "base_uri": "https://localhost:8080/"
        }
      },
      "source": [
        "\"21\" > \"100\""
      ],
      "execution_count": null,
      "outputs": [
        {
          "output_type": "execute_result",
          "data": {
            "text/plain": [
              "True"
            ]
          },
          "metadata": {},
          "execution_count": 18
        }
      ]
    },
    {
      "cell_type": "markdown",
      "metadata": {
        "id": "Bsfds-7_Q8SD"
      },
      "source": [
        "The logic is the same as lexicographic ordering (a.k.a. \"alphabetizing\"), with the comparison examining successive characters in each string until one character is smaller than the other or one of the character sequences has been exhausted. So, since \"2\" is greater than \"1\", \"21\" is greater than \"100\". "
      ]
    },
    {
      "cell_type": "markdown",
      "metadata": {
        "id": "mehjNX3EQ8SD"
      },
      "source": [
        "### The `in` Operator"
      ]
    },
    {
      "cell_type": "markdown",
      "metadata": {
        "id": "_Egmzfz8Q8SE"
      },
      "source": [
        "The `in` operator is used to ask the question: is x in the sequence? We can use it to determine if a string is a substring of another string:"
      ]
    },
    {
      "cell_type": "code",
      "metadata": {
        "id": "anCUjtvMQ8SE",
        "outputId": "5ed982fd-3d04-4d03-b045-12145756cecc",
        "colab": {
          "base_uri": "https://localhost:8080/"
        }
      },
      "source": [
        "x = \"Google is king of Silicon Valley ... but Apple was there first\"\n",
        "print(\"Microsoft\" in x)\n",
        "print(\"Apple\" in x)"
      ],
      "execution_count": null,
      "outputs": [
        {
          "output_type": "stream",
          "name": "stdout",
          "text": [
            "False\n",
            "True\n"
          ]
        }
      ]
    },
    {
      "cell_type": "markdown",
      "metadata": {
        "id": "9nU4JFBBQ8SG"
      },
      "source": [
        "Note that the `in` keyword is not new to us. It's in every `for` loop. However, in a `for` loop it is _assigning_ the loop variable (`c`) to each item in the sequence (`x`), one item at a time. It's not asking. It's doing.    "
      ]
    },
    {
      "cell_type": "markdown",
      "metadata": {
        "id": "dLsY1sPTQ8SG"
      },
      "source": [
        "### The `%` Operator\n",
        "One of the more powerful string operators is `%`, which allows us to insert values into the middle of a string. (Technically, it generates a new string but conceptually it inserts into it.)"
      ]
    },
    {
      "cell_type": "code",
      "metadata": {
        "id": "SzOxKS5wQ8SH",
        "outputId": "22a2123b-3f09-4fde-bbab-a3466351a599",
        "colab": {
          "base_uri": "https://localhost:8080/",
          "height": 36
        }
      },
      "source": [
        "\"Google is king of Silicon Valley ... but %s was there first\" % 'Microsoft' "
      ],
      "execution_count": null,
      "outputs": [
        {
          "output_type": "execute_result",
          "data": {
            "text/plain": [
              "'Google is king of Silicon Valley ... but Microsoft was there first'"
            ],
            "application/vnd.google.colaboratory.intrinsic+json": {
              "type": "string"
            }
          },
          "metadata": {},
          "execution_count": 20
        }
      ]
    },
    {
      "cell_type": "markdown",
      "metadata": {
        "id": "JOo9tnplQ8SI"
      },
      "source": [
        "The `%s` is a placeholder for where to insert the string 'Microsoft'. Other placeholders like `%d` (for decimals) `%i` (for integers), or `%g` for (for floating point numbers) exist for various other types of data. It is possible to use multiple placeholders in the same string if we supply a **tuple** on the right hand side. We will cover tuples in Lesson 10, but you can get the general idea from this example.    "
      ]
    },
    {
      "cell_type": "code",
      "metadata": {
        "id": "dE2lsgqTQ8SJ",
        "outputId": "a448638b-91fe-42bd-d850-2ae20eabf149",
        "colab": {
          "base_uri": "https://localhost:8080/",
          "height": 36
        }
      },
      "source": [
        "\"%s is king of Silicon Valley ... but %s was there first\" % ('Google', 'Microsoft')"
      ],
      "execution_count": null,
      "outputs": [
        {
          "output_type": "execute_result",
          "data": {
            "text/plain": [
              "'Google is king of Silicon Valley ... but Microsoft was there first'"
            ],
            "application/vnd.google.colaboratory.intrinsic+json": {
              "type": "string"
            }
          },
          "metadata": {},
          "execution_count": 21
        }
      ]
    },
    {
      "cell_type": "markdown",
      "metadata": {
        "id": "i0WPzeGhQ8SK"
      },
      "source": [
        "### **Pulse Check ...**\n",
        "**1. Why doesn't this expression return `True`?**\n",
        "```python\n",
        "\"a\" in \"Apple\"\n",
        "```"
      ]
    },
    {
      "cell_type": "markdown",
      "metadata": {
        "id": "efk1mqCfQ8SL"
      },
      "source": [
        "**The character \"a\" does appear in the right hand operand \"Apple\".  lowercase 'a' does not equal uppercase A as Python is case sensitive**"
      ]
    },
    {
      "cell_type": "markdown",
      "metadata": {
        "id": "7eos4fuXQ8SL"
      },
      "source": [
        "**2. Explain the output of the following code. How did Python choose the sequence?**"
      ]
    },
    {
      "cell_type": "code",
      "metadata": {
        "id": "3xwPUxOaQ8SL",
        "outputId": "73b7e521-e89b-47f4-db3b-1d03a108623c",
        "colab": {
          "base_uri": "https://localhost:8080/"
        }
      },
      "source": [
        "for c in sorted(\"Go Stags!\"):\n",
        "    print(c)"
      ],
      "execution_count": null,
      "outputs": [
        {
          "output_type": "stream",
          "name": "stdout",
          "text": [
            " \n",
            "!\n",
            "G\n",
            "S\n",
            "a\n",
            "g\n",
            "o\n",
            "s\n",
            "t\n"
          ]
        }
      ]
    },
    {
      "cell_type": "markdown",
      "metadata": {
        "id": "UCyVAFEVQ8SN"
      },
      "source": [
        "**We are iterating through the string \"Go Stags!\" and printing out each character after the sorted method has been applied to the string.  Uppercase letters come before lowercase in Python.  This explains why they printing first in the sequence.**"
      ]
    },
    {
      "cell_type": "markdown",
      "metadata": {
        "id": "o4aGZVweQ8SN"
      },
      "source": [
        "**3. Study the two operations below. The first one fails (with an error) while the second one executes cleanly. Why do you suppose that is true?** Hint: The answer says a lot about the nature of strings versus numbers for encoding data.\n",
        "```python\n",
        "\"The Red Sox have %d World Series Championships\" % \"9\"\n",
        "\"The Red Sox have %s World Series Championships\" % 9\n",
        "```"
      ]
    },
    {
      "cell_type": "code",
      "source": [
        "\"The Red Sox have %d World Series Championships\" % \"9\" # test the following"
      ],
      "metadata": {
        "colab": {
          "base_uri": "https://localhost:8080/",
          "height": 172
        },
        "id": "MwnUb_ZBf_P4",
        "outputId": "cbf27ade-c4a3-4b2c-fe56-a6abbc08ae14"
      },
      "execution_count": null,
      "outputs": [
        {
          "output_type": "error",
          "ename": "TypeError",
          "evalue": "ignored",
          "traceback": [
            "\u001b[0;31m---------------------------------------------------------------------------\u001b[0m",
            "\u001b[0;31mTypeError\u001b[0m                                 Traceback (most recent call last)",
            "\u001b[0;32m<ipython-input-22-e9ae7f8aac05>\u001b[0m in \u001b[0;36m<module>\u001b[0;34m\u001b[0m\n\u001b[0;32m----> 1\u001b[0;31m \u001b[0;34m\"The Red Sox have %d World Series Championships\"\u001b[0m \u001b[0;34m%\u001b[0m \u001b[0;34m\"9\"\u001b[0m \u001b[0;31m# test the following\u001b[0m\u001b[0;34m\u001b[0m\u001b[0;34m\u001b[0m\u001b[0m\n\u001b[0m",
            "\u001b[0;31mTypeError\u001b[0m: %d format: a number is required, not str"
          ]
        }
      ]
    },
    {
      "cell_type": "code",
      "source": [
        "\"The Red Sox have %s World Series Championships\" % \"9\" # correct it by specifying string format operator"
      ],
      "metadata": {
        "colab": {
          "base_uri": "https://localhost:8080/",
          "height": 36
        },
        "id": "D8amP3Jvhf2v",
        "outputId": "937537c9-4033-4548-fd1d-2ddfd854faf2"
      },
      "execution_count": null,
      "outputs": [
        {
          "output_type": "execute_result",
          "data": {
            "text/plain": [
              "'The Red Sox have 9 World Series Championships'"
            ],
            "application/vnd.google.colaboratory.intrinsic+json": {
              "type": "string"
            }
          },
          "metadata": {},
          "execution_count": 23
        }
      ]
    },
    {
      "cell_type": "code",
      "source": [
        "\"The Red Sox have %s World Series Championships\" % 9 # test the following "
      ],
      "metadata": {
        "colab": {
          "base_uri": "https://localhost:8080/",
          "height": 36
        },
        "id": "G1V_MGQGgBle",
        "outputId": "2ff89c11-667f-4271-dec2-7a461d322efa"
      },
      "execution_count": null,
      "outputs": [
        {
          "output_type": "execute_result",
          "data": {
            "text/plain": [
              "'The Red Sox have 9 World Series Championships'"
            ],
            "application/vnd.google.colaboratory.intrinsic+json": {
              "type": "string"
            }
          },
          "metadata": {},
          "execution_count": 24
        }
      ]
    },
    {
      "cell_type": "markdown",
      "metadata": {
        "id": "ALaeCKUBQ8SN"
      },
      "source": [
        "1. The first code line fails because the right operand specified is a string and it cannot be formatted to a decimal specified by the (%d).\n",
        "\n",
        "2. The second line of code works because the right operand specified is an integer which can be formatted to a string specified by the (%s).\n",
        "\n",
        "In summary most data types can be converted to a string and not the other way around where a string can be converted into a integer or float."
      ]
    },
    {
      "cell_type": "code",
      "metadata": {
        "cellView": "form",
        "id": "rpoVpJijnN0I"
      },
      "source": [
        "#@title <--- Check your work\n",
        "%%html\n",
        "<div style=\"max-width: 1000px\">\n",
        "   <div style=\"position: relative;padding-bottom: 56.25%;height: 0;\">\n",
        "     <iframe style=\"position: absolute;top: 0;left: 0;width: 100%;height: 100%;\" rel=\"0\" modestbranding=\"1\"  \n",
        "     src=\"https://www.youtube.com/embed/RgSiMv0VMWQ\"\n",
        "     frameborder=\"0\" allow=\"accelerometer; autoplay; encrypted-media; gyroscope; picture-in-picture\" allowfullscreen></iframe>\n",
        "   </div>\n",
        "</div>"
      ],
      "execution_count": null,
      "outputs": []
    },
    {
      "cell_type": "markdown",
      "metadata": {
        "id": "LPa4eA8ZQ8SO"
      },
      "source": [
        "---\n",
        "## String Methods"
      ]
    },
    {
      "cell_type": "markdown",
      "metadata": {
        "id": "XwFSgMlvQ8SO"
      },
      "source": [
        "Remember the discussion of essentialism at the start of Lesson 2? There we said that every entity has both form and function. In Python every value, function, module, or other fundamental element is an [object](https://docs.python.org/3/reference/datamodel.html#data-model). Objects have two sides: state and behavior. An object's state (data) is implemented with **instance variables** that act like properties or features. An object's behavior (functionality) is implemented through its **methods**, a set of data type-specific functions that always take the object itself as a parameter. \n",
        "\n",
        "Let's take, for example, the number 2.5. Clearly the number has state (i.e., 2.5) but it also has behavior. We can ask it, for example to add another number to itself (which is how the `+` operator really works) or we can ask it to provide the simplest possible equivalent fraction (a.k.a., \"integer ratio\"):"
      ]
    },
    {
      "cell_type": "code",
      "metadata": {
        "id": "nxrfSXX2Q8SP",
        "outputId": "cf1a52f4-d292-411d-dcc5-1c894e1959e1",
        "colab": {
          "base_uri": "https://localhost:8080/"
        }
      },
      "source": [
        "2.5.as_integer_ratio()"
      ],
      "execution_count": null,
      "outputs": [
        {
          "output_type": "execute_result",
          "data": {
            "text/plain": [
              "(5, 2)"
            ]
          },
          "metadata": {},
          "execution_count": 26
        }
      ]
    },
    {
      "cell_type": "markdown",
      "metadata": {
        "id": "hATgjOPrQ8SR"
      },
      "source": [
        "In human terms this is saying that 2.5 = 5/2. How did the `as_integer_ratio()` method know what number to convert? The one it is attached to, which in this case is 2.5. We tell Python that the method is attached via \"dot notation\":\n",
        "```python\n",
        "value.method( arguments )\n",
        "```"
      ]
    },
    {
      "cell_type": "markdown",
      "metadata": {
        "id": "lORzfXleQ8SR"
      },
      "source": [
        "The actual method is defined much like a function, only it always has one extra `self` parameter that never appears in the call:\n",
        "```python\n",
        "def method( self, parameters):\n",
        "    ...\n",
        "```\n",
        "\n",
        "So what does this have to do with strings? The string data type has a large number of built-in [string methods](https://docs.python.org/3/library/stdtypes.html#string-methods):\n",
        "- `upper()`, `lower()`, `capitalize()`\n",
        "- `strip()`, `lstrip()`, `rstrip()`\n",
        "- `center()`, `ljust()`, `rjust()`\n",
        "- `count()`, `find()`, `rfind()`, `index()`, `rindex()`\n",
        "- `replace()`, `format()`\n",
        "\n",
        "and many more. Most are similar to their equivalents in MS Excel. Then there are a few \"magic\" ones like `__add__()`,  which says what the `+` operator is supposed to do. \n"
      ]
    },
    {
      "cell_type": "markdown",
      "metadata": {
        "id": "07YvK7VbQ8SR"
      },
      "source": [
        "### The `find` Method\n",
        "One of the more commonly-used string methods is `find()`, which returns the position of the first instance of a substring within a longer string:"
      ]
    },
    {
      "cell_type": "code",
      "metadata": {
        "id": "mBb415VtQ8SS",
        "outputId": "2d36a6cd-625f-4b86-f5b1-258c9f1004ed",
        "colab": {
          "base_uri": "https://localhost:8080/"
        }
      },
      "source": [
        "\"Every Good Boy Does Fine\".find(\"Fine\")"
      ],
      "execution_count": null,
      "outputs": [
        {
          "output_type": "execute_result",
          "data": {
            "text/plain": [
              "20"
            ]
          },
          "metadata": {},
          "execution_count": 27
        }
      ]
    },
    {
      "cell_type": "markdown",
      "metadata": {
        "id": "IojCpy2zQ8SU"
      },
      "source": [
        "If we want `find()` to begin looking somewhere other than the beginning of the string then we can pass the starting position as a second argument. We can then slice out a word out of the string, like this ..."
      ]
    },
    {
      "cell_type": "code",
      "metadata": {
        "id": "aSlU535XQ8SU",
        "outputId": "716f1580-de6f-4bcf-bc3a-358fc0a41d69",
        "colab": {
          "base_uri": "https://localhost:8080/",
          "height": 36
        }
      },
      "source": [
        "# pick out a word that fits the pattern 'but '+word+\" \"\n",
        "x = \"Google is king of Silicon Valley ... but Apple was there first\"\n",
        "start_slice = x.find('but ') + len('but ') # finds the next position after the 'but '\n",
        "end_slice = x.find(\" \",start_slice)        # finds the next space after start_slice \n",
        "x[start_slice:end_slice]                   # the actual slice"
      ],
      "execution_count": null,
      "outputs": [
        {
          "output_type": "execute_result",
          "data": {
            "text/plain": [
              "'Apple'"
            ],
            "application/vnd.google.colaboratory.intrinsic+json": {
              "type": "string"
            }
          },
          "metadata": {},
          "execution_count": 28
        }
      ]
    },
    {
      "cell_type": "markdown",
      "metadata": {
        "id": "edn4VlkuQ8SW"
      },
      "source": [
        "While `find()` is certainly useful, it is not the only way to parse strings. You can, of course, traverse the string using a `for` loop (not recommended) or use the **regular expressions** module to search for arbitrarily complex text patterns. Regular expressions are covered in chapter 11 of the Py4E book.   "
      ]
    },
    {
      "cell_type": "markdown",
      "metadata": {
        "id": "MXrUa-sNQ8SW"
      },
      "source": [
        "### **Pulse Check ...**\n",
        "**Write an expression to count the number of sentences in the Gettysburg address.** Assume that each sentence ends with a period. It is possible to use just one expression (without a statement), though it's okay to use an assignment statement and an expression. Any more than that is just verbose!\n",
        "\n",
        "> Four score and seven years ago our fathers brought forth on this continent, a new nation, conceived in Liberty, and dedicated to the proposition that all men are created equal.\n",
        "Now we are engaged in a great civil war, testing whether that nation, or any nation so conceived and so dedicated, can long endure. We are met on a great battle-field of that war. We have come to dedicate a portion of that field, as a final resting place for those who here gave their lives that that nation might live. It is altogether fitting and proper that we should do this.\n",
        ">\n",
        ">But, in a larger sense, we can not dedicate—we can not consecrate—we can not hallow—this ground. The brave men, living and dead, who struggled here, have consecrated it, far above our poor power to add or detract. The world will little note, nor long remember what we say here, but it can never forget what they did here. It is for us the living, rather, to be dedicated here to the unfinished work which they who fought here have thus far so nobly advanced. It is rather for us to be here dedicated to the great task remaining before us—that from these honored dead we take increased devotion to that cause for which they gave the last full measure of devotion—that we here highly resolve that these dead shall not have died in vain—that this nation, under God, shall have a new birth of freedom—and that government of the people, by the people, for the people, shall not perish from the earth."
      ]
    },
    {
      "cell_type": "code",
      "metadata": {
        "id": "Sfa14PIWQ8SW",
        "colab": {
          "base_uri": "https://localhost:8080/",
          "height": 36
        },
        "outputId": "3ad06891-b35b-4339-91c8-3a6b8d28a325"
      },
      "source": [
        "# YOUR CODE HERE\n",
        "\n",
        "gettysburg_address = '''\n",
        "Four score and seven years ago our fathers brought forth on this continent, a new nation, conceived in Liberty, and dedicated to the proposition that all men are created equal.\n",
        "Now we are engaged in a great civil war, testing whether that nation, or any nation so conceived and so dedicated, can long endure. We are met on a great battle-field of that war. We have come to dedicate a portion of that field, as a final resting place for those who here gave their lives that that nation might live. It is altogether fitting and proper that we should do this.\n",
        "\n",
        "But, in a larger sense, we can not dedicate—we can not consecrate—we can not hallow—this ground. The brave men, living and dead, who struggled here, have consecrated it, far above our poor power to add or detract. The world will little note, nor long remember what we say here, but it can never forget what they did here. It is for us the living, rather, to be dedicated here to the unfinished work which they who fought here have thus far so nobly advanced. It is rather for us to be here dedicated to the great task remaining before us—that from these honored dead we take increased devotion to that cause for which they gave the last full measure of devotion—that we here highly resolve that these dead shall not have died in vain—that this nation, under God, shall have a new birth of freedom—and that government of the people, by the people, for the people, shall not perish from the earth.\n",
        "'''\n",
        "# test the code was addded correctly by testing the first 10 characters\n",
        "gettysburg_address[0:11]\n"
      ],
      "execution_count": null,
      "outputs": [
        {
          "output_type": "execute_result",
          "data": {
            "text/plain": [
              "'\\nFour score'"
            ],
            "application/vnd.google.colaboratory.intrinsic+json": {
              "type": "string"
            }
          },
          "metadata": {},
          "execution_count": 1
        }
      ]
    },
    {
      "cell_type": "code",
      "source": [
        "# check how many periods there are to count the number of sentences\n",
        "# assumption is that every sentence ends with a period\n",
        "# https://stackoverflow.com/questions/22724695/how-to-count-characters-in-a-string-python\n",
        "sum(1 for c in gettysburg_address if c == \".\")"
      ],
      "metadata": {
        "colab": {
          "base_uri": "https://localhost:8080/"
        },
        "id": "q3yn31ynquW5",
        "outputId": "ac89604c-9430-4baa-ba0a-fd2851786e25"
      },
      "execution_count": null,
      "outputs": [
        {
          "output_type": "execute_result",
          "data": {
            "text/plain": [
              "10"
            ]
          },
          "metadata": {},
          "execution_count": 2
        }
      ]
    },
    {
      "cell_type": "code",
      "source": [
        "# Huntleys solution \n",
        "gettysburg_address.count(\".\")"
      ],
      "metadata": {
        "colab": {
          "base_uri": "https://localhost:8080/"
        },
        "id": "NrRZhCZ1r1m8",
        "outputId": "e8d66c15-1b0e-460c-ebd5-0b150185624b"
      },
      "execution_count": null,
      "outputs": [
        {
          "output_type": "execute_result",
          "data": {
            "text/plain": [
              "10"
            ]
          },
          "metadata": {},
          "execution_count": 3
        }
      ]
    },
    {
      "cell_type": "code",
      "source": [
        "# From the lecture \n",
        "gettysburg_address.replace('.\\n', '. ').replace('\\n','').split('. ')"
      ],
      "metadata": {
        "colab": {
          "base_uri": "https://localhost:8080/"
        },
        "id": "Nz15XlSfI8ie",
        "outputId": "ba69533f-db9b-4b71-a91b-505c2bb7c07d"
      },
      "execution_count": null,
      "outputs": [
        {
          "output_type": "execute_result",
          "data": {
            "text/plain": [
              "['Four score and seven years ago our fathers brought forth on this continent, a new nation, conceived in Liberty, and dedicated to the proposition that all men are created equal',\n",
              " 'Now we are engaged in a great civil war, testing whether that nation, or any nation so conceived and so dedicated, can long endure',\n",
              " 'We are met on a great battle-field of that war',\n",
              " 'We have come to dedicate a portion of that field, as a final resting place for those who here gave their lives that that nation might live',\n",
              " 'It is altogether fitting and proper that we should do this',\n",
              " 'But, in a larger sense, we can not dedicate—we can not consecrate—we can not hallow—this ground',\n",
              " 'The brave men, living and dead, who struggled here, have consecrated it, far above our poor power to add or detract',\n",
              " 'The world will little note, nor long remember what we say here, but it can never forget what they did here',\n",
              " 'It is for us the living, rather, to be dedicated here to the unfinished work which they who fought here have thus far so nobly advanced',\n",
              " 'It is rather for us to be here dedicated to the great task remaining before us—that from these honored dead we take increased devotion to that cause for which they gave the last full measure of devotion—that we here highly resolve that these dead shall not have died in vain—that this nation, under God, shall have a new birth of freedom—and that government of the people, by the people, for the people, shall not perish from the earth',\n",
              " '']"
            ]
          },
          "metadata": {},
          "execution_count": 6
        }
      ]
    },
    {
      "cell_type": "code",
      "metadata": {
        "cellView": "form",
        "id": "Cncu4yPcnPwT"
      },
      "source": [
        "#@title <--- Check your work\n",
        "%%html\n",
        "<div style=\"max-width: 1000px\">\n",
        "   <div style=\"position: relative;padding-bottom: 56.25%;height: 0;\">\n",
        "     <iframe style=\"position: absolute;top: 0;left: 0;width: 100%;height: 100%;\" rel=\"0\" modestbranding=\"1\"  \n",
        "     src=\"https://www.youtube.com/embed/ePE4uSuGkfU\"\n",
        "     frameborder=\"0\" allow=\"accelerometer; autoplay; encrypted-media; gyroscope; picture-in-picture\" allowfullscreen></iframe>\n",
        "   </div>\n",
        "</div>"
      ],
      "execution_count": null,
      "outputs": []
    },
    {
      "cell_type": "markdown",
      "metadata": {
        "id": "iOfKyWBdQ8SY"
      },
      "source": [
        "---\n",
        "## Pro Tips"
      ]
    },
    {
      "cell_type": "markdown",
      "metadata": {
        "id": "VPuBOzEuQ8SY"
      },
      "source": [
        "### `bytes` and `bytearray`\n",
        "While there are other ways to encode characters besides ASCII (e.g., UTF-8 and various unicode sets), many technical protocols like HTML require ASCII characters. For that we use the `bytes` data type. To the novice eye `bytes` literals look a lot like normal strings:  "
      ]
    },
    {
      "cell_type": "code",
      "metadata": {
        "id": "Za06vgKTQ8SZ",
        "outputId": "f7f364f2-b356-4f85-ac95-a30b141aaaa8",
        "colab": {
          "base_uri": "https://localhost:8080/"
        }
      },
      "source": [
        "b'My Name is Earl'"
      ],
      "execution_count": null,
      "outputs": [
        {
          "output_type": "execute_result",
          "data": {
            "text/plain": [
              "b'My Name is Earl'"
            ]
          },
          "metadata": {},
          "execution_count": 32
        }
      ]
    },
    {
      "cell_type": "markdown",
      "metadata": {
        "id": "Q4YaSGBaQ8Sb"
      },
      "source": [
        "We can tell it is a `bytes` literal because of the leading `b`. Otherwise looks like a string, with many of the same methods. It's even immutable like a string. \n",
        "\n",
        "Okay, so what's the big deal? Nothing really, until you convert the `bytes` into a `bytearray`. A `bytearray` is a mutable version `bytes`. You can alter the characters in place (without creating new strings) and even add new characters to the end. "
      ]
    },
    {
      "cell_type": "code",
      "metadata": {
        "id": "3J5f9f9iQ8Sb",
        "outputId": "6e58cdfb-6813-40db-bd74-690e1b6a6be5",
        "colab": {
          "base_uri": "https://localhost:8080/"
        }
      },
      "source": [
        "x_str = 'My Name is Earl'       # the original string\n",
        "print(\"str: \\t\\t\", x_str)\n",
        "\n",
        "x_bytes = x_str.encode()        # encode it to bytes\n",
        "print(\"bytes: \\t\\t\",x_bytes)\n",
        "\n",
        "x_bytearray = bytearray(x_bytes)  # convert to a mutable bytearray\n",
        "print(\"bytearray: \\t\",x_bytearray)\n",
        "\n",
        "x_bytearray = x_bytearray[0:11]     # cut off the last few characters\n",
        "print(\"truncated: \\t\", x_bytearray)\n",
        "\n",
        "# add new text to the end of the bytearray\n",
        "x_bytearray += b'Inigo Montoya, you killed my father, prepare to die.'\n",
        "print(\"extended: \\t\",x_bytearray)\n",
        "\n",
        "x_str = x_bytearray.decode()    # decode back to a string\n",
        "print(\"str: \\t\\t\",x_str)"
      ],
      "execution_count": null,
      "outputs": [
        {
          "output_type": "stream",
          "name": "stdout",
          "text": [
            "str: \t\t My Name is Earl\n",
            "bytes: \t\t b'My Name is Earl'\n",
            "bytearray: \t bytearray(b'My Name is Earl')\n",
            "truncated: \t bytearray(b'My Name is ')\n",
            "extended: \t bytearray(b'My Name is Inigo Montoya, you killed my father, prepare to die.')\n",
            "str: \t\t My Name is Inigo Montoya, you killed my father, prepare to die.\n"
          ]
        }
      ]
    },
    {
      "cell_type": "markdown",
      "metadata": {
        "id": "JmyjpA9mQ8Sd"
      },
      "source": [
        "Note that by modifying the `bytearray` in place we minimize how much data we need to keep in memory at a given time. If the string is book length, that could be a big deal, both faster and more memory efficient.  "
      ]
    },
    {
      "cell_type": "markdown",
      "metadata": {
        "id": "JhCrqlr0Q8Sd"
      },
      "source": [
        "### Iterators, Generators, and `yield`"
      ]
    },
    {
      "cell_type": "markdown",
      "metadata": {
        "id": "M6orp-vvQ8Sd"
      },
      "source": [
        "When discussing software design programmers can sometimes sound very philosophical or very silly, depending on your perspective. What is a _sequence_ really? A sequence is an **iterable** collection of items. The items can be traversed one at a time, in some order determined by the sequence. We encapsulate the process with an **iterator**. \n",
        "\n",
        "An **iterator** traverses the items in a sequence, one at a time in the proper sequence. In Python, an _iterable_ collection (sequence) always has a magic method `__iter__()` that returns a _iterator_. The iterator objects then have yet another magic method called `__next()__` that always either returns the next item in the sequence or throws a StopIteration exception if the sequence is exhausted. (An exception is like an error, catchable with a `try ... except` statement, but doesn't mean anything is wrong, just notable.)\n",
        "\n",
        "Sometimes an example is easier than an explanation:"
      ]
    },
    {
      "cell_type": "code",
      "metadata": {
        "id": "9bab2V08Q8Se",
        "outputId": "c2716050-ca05-424c-a0f5-bae3f7cc0aaf",
        "colab": {
          "base_uri": "https://localhost:8080/"
        }
      },
      "source": [
        "go_stags = \"Go Stags!\".__iter__()  # create an iterator for the string\n",
        "print(go_stags)     \n",
        "print(go_stags.__next__())         # 0-th item\n",
        "print(go_stags.__next__())         # 1-st item\n",
        "print(go_stags.__next__())         # 2-nd item\n",
        "print(go_stags.__next__())         # 3-rd item\n",
        "print(go_stags.__next__())         # 4-th item\n",
        "print(go_stags.__next__())         # 5-th item\n",
        "print(go_stags.__next__())         # 6-th item\n",
        "print(go_stags.__next__())         # 7-th item\n",
        "print(go_stags.__next__())         # 8-th item\n",
        "# print(go_stags.__next__())         # 9-st item\n",
        "# print(go_stags.__next__())         # Throws an exception"
      ],
      "execution_count": null,
      "outputs": [
        {
          "output_type": "stream",
          "name": "stdout",
          "text": [
            "<str_iterator object at 0x7f94f0503040>\n",
            "G\n",
            "o\n",
            " \n",
            "S\n",
            "t\n",
            "a\n",
            "g\n",
            "s\n",
            "!\n"
          ]
        }
      ]
    },
    {
      "cell_type": "markdown",
      "metadata": {
        "id": "uhrVdW-1Q8Sg"
      },
      "source": [
        "Behind the scenes that is exactly how a `for` loop works. Each pass through the loop it sets the `item` to the next in sequence until none are left. The `in` operator does the same thing. It's really a specialized (and short-circuited) while loop for finding items in a collection. \n",
        "\n",
        "Every data type we will consider in the next few lessons is iterable: strings, files, lists, tuples, dictionaries, sets, Series, and DataFrames. All of them are used to contain collections of data. In some cases the sequences are somewhat artificial (e.g., sets are non-sequential by nature) but nonetheless they have iterators. \n",
        "\n",
        "So, what if we want to create iterators for our own custom data structures? We have two choices:\n",
        "\n",
        "- Create a new data type (called a **class**) that implements the `__iter__()` and `__next()__` methods.\n",
        "- Use a **generator function**.\n",
        "\n",
        "We won't get into creating a new class, which is well beyond the scope of this course, but we can at least illustrate the second. The code below uses a generator function to create a `digits` iterator to use in the `for` loop. "
      ]
    },
    {
      "cell_type": "code",
      "metadata": {
        "id": "c2neNcOQQ8Sg",
        "colab": {
          "base_uri": "https://localhost:8080/"
        },
        "outputId": "d553ea70-1bc2-4198-c9ee-8cf6202049ea"
      },
      "source": [
        "# Set up the problem\n",
        "divisor = 7\n",
        "dividend = 479\n",
        "\n",
        "# A digits generator\n",
        "def digits(dividend):            # a typical function definition\n",
        "    digit_str = str(dividend)    # convert the integer dividend into a string\n",
        "    for d in digit_str:          # start iterating over the string\n",
        "        yield d                  # `yield` one digit and freeze execution until the next generator call\n",
        "\n",
        "# Initialize variables\n",
        "remainder = quotient = 0\n",
        "\n",
        "for d in digits(dividend):\n",
        "    remainder = remainder*10 + int(d)     # pull down the next digit into the remainder\n",
        "    q = remainder // divisor              # determine how many times the divisor fits into the remainder \n",
        "    product = q * divisor                 # calculate the product, and then ...\n",
        "    remainder -= product                  # subtract it from the remainder\n",
        "    \n",
        "    quotient = quotient*10 + q            # add the next digit to the quotient\n",
        "    \n",
        "print(str(quotient)+\"r\"+str(remainder))"
      ],
      "execution_count": null,
      "outputs": [
        {
          "output_type": "stream",
          "name": "stdout",
          "text": [
            "68r3\n"
          ]
        }
      ]
    },
    {
      "cell_type": "markdown",
      "metadata": {
        "id": "yH1i92gLQ8Si"
      },
      "source": [
        "The main difference between a _generator_ and a normal function is that it uses `yield` instead of `return`. After a `return` from a function Python forgets everything that happened, starting fresh with the next function call. With `yield`, however, the function instead puts all of its state (variables and current statement pointer) on ice before it leaves. Then with the next call of the generator, it thaws out the state and continues execution right where it was, yielding the next item in the sequence.\n",
        "\n",
        "You have already encountered a generator in Lesson 5. The `range()` function is a generator for sequences of integers. Each time its `__next__()` method is called it yields the next number in the sequence. \n",
        "\n",
        "So why do we need generators if we can use lists? Because generators work for **infinite** (or at least impossibly huge) sequences that are too big to fit into memory all at once. The generator can yield items one at a time without having to remember the previous items or predict the remaining ones. To create all the digits of π (a sequence that never ends), one could use a generator function that calculates the digits one at a time.   "
      ]
    },
    {
      "cell_type": "markdown",
      "metadata": {
        "id": "TzX0GNA8Q8Sj"
      },
      "source": [
        "---\n",
        "## **Exercises**"
      ]
    },
    {
      "cell_type": "markdown",
      "metadata": {
        "id": "YvlVkiJnQ8Sj"
      },
      "source": [
        "**1. Rewrite your `waist2hip_ratio()` function from Lesson 4 to use the formatting operator `%` for the output string.** You will need to use a tuple for the 4 placeholder insertions. "
      ]
    },
    {
      "cell_type": "code",
      "metadata": {
        "id": "Trc1dBh0Q8Sk"
      },
      "source": [
        "# Work from lesson 4 copied in this code block\n",
        "\n",
        "# Turn exercise waist to hip ratio from lesson 3 into a function named 'w2h_ratio'\n",
        "# the function 'w2h_ratio' has three parameters 'waist_inches', 'hip_inches','gender'\n",
        "def w2h_ratio(waist_inches, hip_inches, gender):\n",
        "\n",
        "    try:\n",
        "        waist = float(waist_inches)\n",
        "        hip = float(hip_inches) \n",
        "        gender = str(gender)\n",
        "        \n",
        "    except:\n",
        "        return(\"waist2hip_ratio: Invalid measurement(s)\") # waist & hip must be in inches\n",
        "\n",
        "    if waist <= 0 or hip <= 0:  # waist and hip measurements must be greater than 0\n",
        "        return(\"waist2hip_ratio: Invalid measurement(s)\")\n",
        "\n",
        "    if gender != (\"F\" or \"M\"): # Gender must be \"M\" OR \"F\"\n",
        "        return (\"waist2hip_ratio: Unknown gender\")\n",
        "\n",
        "    waist2hip_ratio = round(waist/hip, 2) # round our waist2hip_ratio to two decimal spaces\n",
        "\n",
        "    # if gender == \"M\" and waist2hip_ratio > 0.90:\n",
        "    #     return \"Apple\"\n",
        "    # elif gender == \"M\" and waist2hip_ratio <= 0.90:\n",
        "    #     return \"Pear\"\n",
        "    # elif gender == \"F\" and waist2hip_ratio > 0.80:\n",
        "    #     return \"Apple\"\n",
        "    # elif gender == \"F\" and waist2hip_ratio <= 0.80:\n",
        "    #     return \"Pear\"    \n",
        "    \n",
        "    \n",
        "    # Determine if the individual is an \"Apple\" OR \"Pear\" shape based on their waist to hip ratio\n",
        "    shape = \"Apple\" if (waist2hip_ratio > 0.90 and gender == \"M\") or (waist2hip_ratio > 0.80 and gender == \"F\") else \"Pear\"\n",
        "    \n",
        "    # return the waist and hip measurements to strings so they can be printed\n",
        "    shape_result = \"For a \" + gender + \" with waist \" + str(waist) + \" and hip \" + str(hip) + \", \\n\" + \" the w2h ratio is \" \n",
        "    shape_result += str(waist2hip_ratio) + \",\" + \" with a shape \" + shape\n",
        "    \n",
        "    print(shape_result) # print the summary of the individuals shape and waist to hip ratio"
      ],
      "execution_count": null,
      "outputs": []
    },
    {
      "cell_type": "code",
      "source": [
        "# Call the function to test its logic using\n",
        "# the same inputs from lesson 3/4 exercise\n",
        "w2h_ratio(25, 33, \"F\")"
      ],
      "metadata": {
        "colab": {
          "base_uri": "https://localhost:8080/"
        },
        "id": "Zp_6g8KqvExk",
        "outputId": "b08a2fe2-db29-4d85-f13b-07b5064b0ebd"
      },
      "execution_count": null,
      "outputs": [
        {
          "output_type": "stream",
          "name": "stdout",
          "text": [
            "For a F with waist 25.0 and hip 33.0, \n",
            " the w2h ratio is 0.76, with a shape Pear\n"
          ]
        }
      ]
    },
    {
      "cell_type": "code",
      "source": [
        "# Re-write the shape result output using the string format operator %\n",
        "\n",
        "# Work from lesson 4 copied in this code block\n",
        "\n",
        "# Turn exercise waist to hip ratio from lesson 3 into a function named 'w2h_ratio'\n",
        "# the function 'w2h_ratio' has three parameters 'waist_inches', 'hip_inches','gender'\n",
        "def w2h_ratio(waist_inches, hip_inches, gender):\n",
        "\n",
        "    try:\n",
        "        waist = float(waist_inches)\n",
        "        hip = float(hip_inches) \n",
        "        gender = str(gender)\n",
        "        \n",
        "    except:\n",
        "        return(\"waist2hip_ratio: Invalid measurement(s)\") # waist & hip must be in inches\n",
        "\n",
        "    if waist <= 0 or hip <= 0:  # waist and hip measurements must be greater than 0\n",
        "        return(\"waist2hip_ratio: Invalid measurement(s)\")\n",
        "\n",
        "    if gender != (\"F\" or \"M\"): # Gender must be \"M\" OR \"F\"\n",
        "        return (\"waist2hip_ratio: Unknown gender\")\n",
        "\n",
        "    waist2hip_ratio = round(waist/hip, 2) # round our waist2hip_ratio to two decimal spaces\n",
        "\n",
        "    # if gender == \"M\" and waist2hip_ratio > 0.90:\n",
        "    #     return \"Apple\"\n",
        "    # elif gender == \"M\" and waist2hip_ratio <= 0.90:\n",
        "    #     return \"Pear\"\n",
        "    # elif gender == \"F\" and waist2hip_ratio > 0.80:\n",
        "    #     return \"Apple\"\n",
        "    # elif gender == \"F\" and waist2hip_ratio <= 0.80:\n",
        "    #     return \"Pear\"    \n",
        "    \n",
        "    \n",
        "    # Determine if the individual is an \"Apple\" OR \"Pear\" shape based on their waist to hip ratio\n",
        "    shape = \"Apple\" if (waist2hip_ratio > 0.90 and gender == \"M\") or (waist2hip_ratio > 0.80 and gender == \"F\") else \"Pear\"\n",
        "    \n",
        "    # return the waist and hip measurements to strings so they can be printed\n",
        "    # shape_result = \"For a \" + gender + \" with waist \" + str(waist) + \" and hip \" + str(hip) + \", \\n\" + \" the w2h ratio is \" \n",
        "    # shape_result += str(waist2hip_ratio) + \",\" + \" with a shape \" + shape\n",
        "\n",
        "    # Re-write the shape result output using the string format operator %\n",
        "    # CHANGE CODE HERE\n",
        "    \n",
        "    shape_result_new = \"For a %s with waist %g and hip %g, the w2h ratio is %g.\" % (gender, waist, hip, waist2hip_ratio)\n",
        "\n",
        "    print(shape_result_new) # print the summary of the individuals shape and waist to hip ratio\n",
        "\n",
        "# Call the function \n",
        "w2h_ratio(25, 33, \"F\")"
      ],
      "metadata": {
        "colab": {
          "base_uri": "https://localhost:8080/"
        },
        "id": "TcyAAHlYvU1C",
        "outputId": "11578938-3a0b-41d3-b63a-d7fad2d04394"
      },
      "execution_count": null,
      "outputs": [
        {
          "output_type": "stream",
          "name": "stdout",
          "text": [
            "For a F with waist 25 and hip 33, the w2h ratio is 0.76.\n"
          ]
        }
      ]
    },
    {
      "cell_type": "code",
      "metadata": {
        "cellView": "form",
        "id": "Df2nsuG-nTVy",
        "colab": {
          "base_uri": "https://localhost:8080/",
          "height": 580
        },
        "outputId": "7e0e1a29-346d-4730-c175-a80e9ce79ab0"
      },
      "source": [
        "#@title <--- Check your work\n",
        "%%html\n",
        "<div style=\"max-width: 1000px\">\n",
        "   <div style=\"position: relative;padding-bottom: 56.25%;height: 0;\">\n",
        "     <iframe style=\"position: absolute;top: 0;left: 0;width: 100%;height: 100%;\" rel=\"0\" modestbranding=\"1\"  \n",
        "     src=\"https://www.youtube.com/embed/YfrN_4Pq_ko\"\n",
        "     frameborder=\"0\" allow=\"accelerometer; autoplay; encrypted-media; gyroscope; picture-in-picture\" allowfullscreen></iframe>\n",
        "   </div>\n",
        "</div>"
      ],
      "execution_count": null,
      "outputs": [
        {
          "output_type": "display_data",
          "data": {
            "text/plain": [
              "<IPython.core.display.HTML object>"
            ],
            "text/html": [
              "<div style=\"max-width: 1000px\">\n",
              "   <div style=\"position: relative;padding-bottom: 56.25%;height: 0;\">\n",
              "     <iframe style=\"position: absolute;top: 0;left: 0;width: 100%;height: 100%;\" rel=\"0\" modestbranding=\"1\"  \n",
              "     src=\"https://www.youtube.com/embed/YfrN_4Pq_ko\"\n",
              "     frameborder=\"0\" allow=\"accelerometer; autoplay; encrypted-media; gyroscope; picture-in-picture\" allowfullscreen></iframe>\n",
              "   </div>\n",
              "</div>\n"
            ]
          },
          "metadata": {}
        }
      ]
    },
    {
      "cell_type": "markdown",
      "metadata": {
        "id": "KCxSQIykQ8Sn"
      },
      "source": [
        "**2. Write a function called `char_rotate()` that moves the first character of a string to the end of the string.** The function has one parameter (the string) and returns a new string with the first character rotated to the end."
      ]
    },
    {
      "cell_type": "code",
      "metadata": {
        "id": "yewKGdO-Q8Sn",
        "colab": {
          "base_uri": "https://localhost:8080/",
          "height": 36
        },
        "outputId": "5d61b577-34f3-4b61-93fd-b23c26d2707a"
      },
      "source": [
        "def char_rotate(my_string):\n",
        "    # first character is 0 index\n",
        "    first_char = my_string[0] \n",
        "    # then abstract the second character and exhaust till the end\n",
        "    # then concate the first character to the 'string_rotate'\n",
        "    string_rotate = my_string[1:] + first_char\n",
        "    return string_rotate  # need to make it a fruitful function to use in Ex 3\n",
        "\n",
        "# call the function \n",
        "char_rotate(\"Monica Willson\")"
      ],
      "execution_count": null,
      "outputs": [
        {
          "output_type": "execute_result",
          "data": {
            "text/plain": [
              "'onica WillsonM'"
            ],
            "application/vnd.google.colaboratory.intrinsic+json": {
              "type": "string"
            }
          },
          "metadata": {},
          "execution_count": 2
        }
      ]
    },
    {
      "cell_type": "markdown",
      "metadata": {
        "id": "g1HqEYWsQ8So"
      },
      "source": [
        "**3. Write a function called `igpay()` that takes in a word and returns the pig latin equivalent.**\n",
        "- Convert every letter to upper case. Latin does not have lowercase letters. \n",
        "- If the word starts with a vowel, then add \"YAY\" to the end of the word.\n",
        "- if the word starts with one or more consonants in a row, then move the consonants to the end (so the word starts with a vowel) and add \"AY\"\n",
        "- If the word does not contain at least one vowel then just return the word\n",
        "- Look out for infinite loops! Interrupt/restart the runtime if needed.\n",
        "\n",
        "Hints: \n",
        "- Use your `char_rotate()` function from exercise 2.\n",
        "- There may be a string method or two that can simplify your code.\n",
        "- `igpay(\"pig\")` is \"IGPAY\"\n",
        "- `igpay(\"art\")` is \"ARTAY\"\n",
        "- `igpay(\"thx\")` is \"thx\"\n",
        "- `igpay(\"\")`  is \"\""
      ]
    },
    {
      "cell_type": "code",
      "metadata": {
        "id": "K9q_pHq0Q8Sp",
        "colab": {
          "base_uri": "https://localhost:8080/",
          "height": 36
        },
        "outputId": "ba142698-6dc2-4f32-d64b-69500ab13c52"
      },
      "source": [
        "vowels = [\"A\",\"E\",\"I\",\"O\",\"U\"]\n",
        "consonants = [\"B\",\"C\",\"D\",\"F\",\"G\",\"H\",\"J\",\"K\",\"L\",\"M\",\"N\",\"P\",\"Q\",\"R\",\"S\",\"T\",\"V\",\"W\",\"X\",\"Y\",\"Z\"]\n",
        "\n",
        "def ig_pay(my_string):\n",
        "    # convert the input text from user to all uppercase letters\n",
        "    my_string = my_string.upper()\n",
        "    # if starts with a vowel add 'YAY'\n",
        "    if my_string[0] in vowels:\n",
        "        return my_string + \"YAY\"\n",
        "    # if the string does not contain at least one vowel, just return the string\n",
        "    for c in my_string:\n",
        "       if c not in vowels:\n",
        "           return my_string\n",
        "    # if starts with one or more consonants, move consonants to the end \n",
        "    # and add \"AY\" \n",
        "    while my_string[0] not in vowels:\n",
        "        my_string = char_rotate(my_string)\n",
        "        return my_string + \"AY\"\n",
        "    \n",
        "  \n",
        "\n",
        "# call the function \n",
        "ig_pay('pig') # test 'pig' user input\n",
        "# ig_pay(my_string) # test 'art' user input \n",
        "# ig_pay(my_string) # test 'thx' user input\n",
        "# ig_pay(my_string) # test \"\""
      ],
      "execution_count": null,
      "outputs": [
        {
          "output_type": "execute_result",
          "data": {
            "text/plain": [
              "'PIG'"
            ],
            "application/vnd.google.colaboratory.intrinsic+json": {
              "type": "string"
            }
          },
          "metadata": {},
          "execution_count": 5
        }
      ]
    },
    {
      "cell_type": "code",
      "source": [
        "ig_pay('art')"
      ],
      "metadata": {
        "colab": {
          "base_uri": "https://localhost:8080/",
          "height": 36
        },
        "id": "-wsgDJ2dMTqW",
        "outputId": "b51de2bd-d170-4425-d504-c793aa70aeb5"
      },
      "execution_count": null,
      "outputs": [
        {
          "output_type": "execute_result",
          "data": {
            "text/plain": [
              "'ARTYAY'"
            ],
            "application/vnd.google.colaboratory.intrinsic+json": {
              "type": "string"
            }
          },
          "metadata": {},
          "execution_count": 6
        }
      ]
    },
    {
      "cell_type": "code",
      "source": [
        "ig_pay('thx')"
      ],
      "metadata": {
        "colab": {
          "base_uri": "https://localhost:8080/",
          "height": 36
        },
        "id": "rRTv8yHTMiid",
        "outputId": "93dd5806-47af-4d08-de10-dcfb75e6b358"
      },
      "execution_count": null,
      "outputs": [
        {
          "output_type": "execute_result",
          "data": {
            "text/plain": [
              "'THX'"
            ],
            "application/vnd.google.colaboratory.intrinsic+json": {
              "type": "string"
            }
          },
          "metadata": {},
          "execution_count": 7
        }
      ]
    },
    {
      "cell_type": "code",
      "source": [
        "ig_pay(\"\")"
      ],
      "metadata": {
        "colab": {
          "base_uri": "https://localhost:8080/",
          "height": 301
        },
        "id": "VGzN8JxVMqv7",
        "outputId": "3a0faed8-829b-44e3-9c77-38e51b3f1b35"
      },
      "execution_count": null,
      "outputs": [
        {
          "output_type": "error",
          "ename": "IndexError",
          "evalue": "ignored",
          "traceback": [
            "\u001b[0;31m---------------------------------------------------------------------------\u001b[0m",
            "\u001b[0;31mIndexError\u001b[0m                                Traceback (most recent call last)",
            "\u001b[0;32m<ipython-input-8-85734b67a769>\u001b[0m in \u001b[0;36m<module>\u001b[0;34m\u001b[0m\n\u001b[0;32m----> 1\u001b[0;31m \u001b[0mig_pay\u001b[0m\u001b[0;34m(\u001b[0m\u001b[0;34m\"\"\u001b[0m\u001b[0;34m)\u001b[0m\u001b[0;34m\u001b[0m\u001b[0;34m\u001b[0m\u001b[0m\n\u001b[0m",
            "\u001b[0;32m<ipython-input-5-1336d56421f7>\u001b[0m in \u001b[0;36mig_pay\u001b[0;34m(my_string)\u001b[0m\n\u001b[1;32m      6\u001b[0m     \u001b[0mmy_string\u001b[0m \u001b[0;34m=\u001b[0m \u001b[0mmy_string\u001b[0m\u001b[0;34m.\u001b[0m\u001b[0mupper\u001b[0m\u001b[0;34m(\u001b[0m\u001b[0;34m)\u001b[0m\u001b[0;34m\u001b[0m\u001b[0;34m\u001b[0m\u001b[0m\n\u001b[1;32m      7\u001b[0m     \u001b[0;31m# if starts with a vowel add 'YAY'\u001b[0m\u001b[0;34m\u001b[0m\u001b[0;34m\u001b[0m\u001b[0;34m\u001b[0m\u001b[0m\n\u001b[0;32m----> 8\u001b[0;31m     \u001b[0;32mif\u001b[0m \u001b[0mmy_string\u001b[0m\u001b[0;34m[\u001b[0m\u001b[0;36m0\u001b[0m\u001b[0;34m]\u001b[0m \u001b[0;32min\u001b[0m \u001b[0mvowels\u001b[0m\u001b[0;34m:\u001b[0m\u001b[0;34m\u001b[0m\u001b[0;34m\u001b[0m\u001b[0m\n\u001b[0m\u001b[1;32m      9\u001b[0m         \u001b[0;32mreturn\u001b[0m \u001b[0mmy_string\u001b[0m \u001b[0;34m+\u001b[0m \u001b[0;34m\"YAY\"\u001b[0m\u001b[0;34m\u001b[0m\u001b[0;34m\u001b[0m\u001b[0m\n\u001b[1;32m     10\u001b[0m     \u001b[0;31m# if the string does not contain at least one vowel, just return the string\u001b[0m\u001b[0;34m\u001b[0m\u001b[0;34m\u001b[0m\u001b[0;34m\u001b[0m\u001b[0m\n",
            "\u001b[0;31mIndexError\u001b[0m: string index out of range"
          ]
        }
      ]
    },
    {
      "cell_type": "code",
      "metadata": {
        "cellView": "form",
        "id": "3p-51GtnnUXZ",
        "colab": {
          "base_uri": "https://localhost:8080/",
          "height": 580
        },
        "outputId": "c79e66fb-8f5a-48e6-aff9-fea30cb2db0a"
      },
      "source": [
        "#@title <--- Check your work\n",
        "%%html\n",
        "<div style=\"max-width: 1000px\">\n",
        "   <div style=\"position: relative;padding-bottom: 56.25%;height: 0;\">\n",
        "     <iframe style=\"position: absolute;top: 0;left: 0;width: 100%;height: 100%;\" rel=\"0\" modestbranding=\"1\"  \n",
        "     src=\"https://www.youtube.com/embed/ciXaBYgNHeY\"\n",
        "     frameborder=\"0\" allow=\"accelerometer; autoplay; encrypted-media; gyroscope; picture-in-picture\" allowfullscreen></iframe>\n",
        "   </div>\n",
        "</div>"
      ],
      "execution_count": null,
      "outputs": [
        {
          "output_type": "display_data",
          "data": {
            "text/plain": [
              "<IPython.core.display.HTML object>"
            ],
            "text/html": [
              "<div style=\"max-width: 1000px\">\n",
              "   <div style=\"position: relative;padding-bottom: 56.25%;height: 0;\">\n",
              "     <iframe style=\"position: absolute;top: 0;left: 0;width: 100%;height: 100%;\" rel=\"0\" modestbranding=\"1\"  \n",
              "     src=\"https://www.youtube.com/embed/ciXaBYgNHeY\"\n",
              "     frameborder=\"0\" allow=\"accelerometer; autoplay; encrypted-media; gyroscope; picture-in-picture\" allowfullscreen></iframe>\n",
              "   </div>\n",
              "</div>\n"
            ]
          },
          "metadata": {}
        }
      ]
    },
    {
      "cell_type": "markdown",
      "metadata": {
        "id": "NRXgHTc-RReY"
      },
      "source": [
        "**4. Write a function called `roman2int()` that converts a roman numeral string to an integer.** So, `roman2int(\"XXIX\")` returns 29 and `roman2int(\"MCMXCIX\")` returns 1999. \n",
        "\n",
        "Requirements:\n",
        "- The function has a single parameter called `roman_numeral` that must be a string. \n",
        "- Iterate over the string with a `while` loop with two loop variables and a stopping condition:\n",
        "  - `int_value` is an accumulator for the integer value of the roman characters processed so far.\n",
        "  - `remaining` is used to keep track of the romain characters remaining. It is like the `digits` variable we used wth long division. \n",
        "  - The loop terminates when `remaining` is an empty string.\n",
        "  - Don't forget to initialize the variables before entering the loop.\n",
        "- Each pass through, use a slice or string method to compare the head of `remaining` with one of the following patterns (with integer equivalents provided):\n",
        "  - \"IV\" = 4\n",
        "  - \"IX\" = 9\n",
        "  - \"XL\" = 40\n",
        "  - \"XC\" = 90\n",
        "  - \"CD\" = 400\n",
        "  - \"CM\" = 900\n",
        "  - \"I\" = 1\n",
        "  - \"V\" = 5\n",
        "  - \"X\" = 10\n",
        "  - \"L\" = 50\n",
        "  - \"C\" = 100\n",
        "  - \"D\" = 500\n",
        "  - \"M\" = 1000\n",
        "  - any other character = 0\n",
        "- Compare the patterns in the order given above using an `if ... elif` statement with 14 clauses. If a pattern matches then \n",
        "  - Update `int_value` by adding the appropriate integer.\n",
        "  - Update `remaining` by removing the matched pattern from the head of string. Note: you can do with with a slice to the right of the `=`.  \n",
        "  "
      ]
    },
    {
      "cell_type": "code",
      "metadata": {
        "id": "eDIysNveHtdR",
        "colab": {
          "base_uri": "https://localhost:8080/"
        },
        "outputId": "7d2916a6-e76e-49e2-a2c9-5350b01373e3"
      },
      "source": [
        "def roman2int(roman_numeral):\n",
        "\n",
        "# initialize the accumulator and loop variable (counter)\n",
        "    int_value = 0 # accumulator total value of the roman_numeral\n",
        "    remaining = roman_numeral # counter\n",
        "    while remaining:  # iterate through the characters of roman numerials\n",
        "        if remaining.startswith(\"IV\"):\n",
        "            remaining = remaining[2:]  # slice the characters after \"IV\"\n",
        "            int_value += 4  # add the value of 4 to the accumulator\n",
        "        \n",
        "        elif remaining.startswith(\"IX\"):\n",
        "            remaining = remaining[2:]\n",
        "            int_value += 9\n",
        "        \n",
        "        elif remaining.startswith(\"XL\"):\n",
        "            remaining = remaining[2:]\n",
        "            int_value += 40\n",
        "     \n",
        "        elif remaining.startswith(\"XC\"):\n",
        "            remaining = remaining[2:]\n",
        "            int_value += 90\n",
        "\n",
        "        elif remaining.startswith(\"CD\"):\n",
        "            remaining = remaining[2:]\n",
        "            int_value += 400\n",
        "\n",
        "        elif remaining.startswith(\"CM\"):\n",
        "            remaining = remaining[2:]\n",
        "            int_value += 900\n",
        "        \n",
        "        elif remaining.startswith(\"I\"):\n",
        "            remaining = remaining[1:]\n",
        "            int_value += 1\n",
        "        \n",
        "        elif remaining.startswith(\"V\"):\n",
        "            remaining = remaining[1:]\n",
        "            int_value += 5\n",
        "        \n",
        "        elif remaining.startswith(\"X\"):\n",
        "            remaining = remaining[1:]\n",
        "            int_value += 10\n",
        "        \n",
        "        elif remaining.startswith(\"L\"):\n",
        "            remaining = remaining[1:]\n",
        "            int_value += 50\n",
        "            \n",
        "        elif remaining.startswith(\"C\"):\n",
        "            remaining = remaining[1:]\n",
        "            int_value += 100\n",
        "        \n",
        "        elif remaining.startswith(\"D\"):\n",
        "            remaining = remaining[1:]\n",
        "            int_value += 500\n",
        "          \n",
        "        elif remaining.startswith(\"M\"):\n",
        "            remaining = remaining[1:]\n",
        "            int_value += 1000\n",
        "\n",
        "    return int_value\n",
        "\n",
        "roman2int(\"XXIX\")"
      ],
      "execution_count": null,
      "outputs": [
        {
          "output_type": "execute_result",
          "data": {
            "text/plain": [
              "29"
            ]
          },
          "metadata": {},
          "execution_count": 56
        }
      ]
    },
    {
      "cell_type": "code",
      "metadata": {
        "cellView": "form",
        "id": "PUETO8BcnVkR",
        "colab": {
          "base_uri": "https://localhost:8080/",
          "height": 579
        },
        "outputId": "765f05c3-3571-4ed8-883d-f2af6507a4c0"
      },
      "source": [
        "#@title <--- Check your work\n",
        "%%html\n",
        "<div style=\"max-width: 1000px\">\n",
        "   <div style=\"position: relative;padding-bottom: 56.25%;height: 0;\">\n",
        "     <iframe style=\"position: absolute;top: 0;left: 0;width: 100%;height: 100%;\" rel=\"0\" modestbranding=\"1\"  \n",
        "     src=\"https://www.youtube.com/embed/K7OEyfj6bL4\"\n",
        "     frameborder=\"0\" allow=\"accelerometer; autoplay; encrypted-media; gyroscope; picture-in-picture\" allowfullscreen></iframe>\n",
        "   </div>\n",
        "</div>"
      ],
      "execution_count": null,
      "outputs": [
        {
          "output_type": "display_data",
          "data": {
            "text/plain": [
              "<IPython.core.display.HTML object>"
            ],
            "text/html": [
              "<div style=\"max-width: 1000px\">\n",
              "   <div style=\"position: relative;padding-bottom: 56.25%;height: 0;\">\n",
              "     <iframe style=\"position: absolute;top: 0;left: 0;width: 100%;height: 100%;\" rel=\"0\" modestbranding=\"1\"  \n",
              "     src=\"https://www.youtube.com/embed/K7OEyfj6bL4\"\n",
              "     frameborder=\"0\" allow=\"accelerometer; autoplay; encrypted-media; gyroscope; picture-in-picture\" allowfullscreen></iframe>\n",
              "   </div>\n",
              "</div>\n"
            ]
          },
          "metadata": {}
        }
      ]
    },
    {
      "cell_type": "markdown",
      "metadata": {
        "id": "EutsdZX_Q-dS"
      },
      "source": [
        "---\n",
        "## **Before you go ... Submit your work on Google Classroom**\n",
        "- Save your notebook to be sure it is up to date. \n",
        "- Turn in your notebook. Your notebook will become read-only. \n",
        "- Once it has been reviewed it will be returned and no-longer be read-only. "
      ]
    },
    {
      "cell_type": "markdown",
      "metadata": {
        "id": "ozImChaxpkCw"
      },
      "source": [
        "---\n",
        "> ## Every Tee Shirt Has a Story\n",
        "> ABOUT THE 1989 GENETIC ALGORITHMS CONFERENCE   \n",
        "> This shirt has some significance for me. It marked when I started to think a little differently about the world around me. I had just finished my masters studies in an area now called evolutionary computation (i.e., solving math problems with simulated sexual reproduction) but then simply called Genetic Algorithms. At the conference I got a prime speaking spot, with several kinda famous names in the audience and my overhead slides projected 15 feet tall behind me. I was going all out. I'd even paid to get the slides printed in color! Up on stage I felt like [Patton](https://www.hollywood.com/general/patton-movie-stills-57256250/#/ms-1915/1) lecturing to the troops. \n",
        ">\n",
        ">I got about halfway through my slides, just about the point where I was about to quote John Holland, the founder of the field, when I spotted him sitting in the first row, watching intently. I didn't expect that. I froze for about 20 seconds, or at least that's what it felt like; I have no idea. I guess he figured out what happened because he motioned for me to continue with my quote. Afterwards he bought me lunch. He turned out to be a very nice and patient man, a true educator as well as a world famous scientist.\n",
        ">\n",
        "> That night, as I sat in the lobby watching TV with the other geeks from around the world, I was again frozen, this time with what we were seeing live. It was the [Tank Man video](https://lens.blogs.nytimes.com/2009/06/03/behind-the-scenes-tank-man-of-tiananmen/) from the Tiananmen Square massacre. I could not believe what I was seeing. Could that be real? I was told by several people who seemed to know that yes, that's how it happens there. Could it happen here, I wondered? It already has of course but that's another story. \n",
        ">\n",
        "> The conference tee shirt -- we all wore it in the group photo -- features binary code evolving into the words \"Genetic Algorithms.\" It's held up pretty well for being over 30 years old.        \n",
        "\n",
        "![L6 Tee Front](https://github.com/christopherhuntley/BUAN5405-docs/raw/master/Photos/L06_TeeFront.jpeg)\n",
        "\n",
        "## Copyright &copy; 2020 Christopher Huntley. All rights reserved. "
      ]
    }
  ]
}